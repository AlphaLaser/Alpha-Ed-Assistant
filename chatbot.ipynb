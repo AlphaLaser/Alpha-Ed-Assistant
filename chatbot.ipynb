{
 "cells": [
  {
   "cell_type": "code",
   "metadata": {
    "_uuid": "8f2839f25d086af736a60e9eeb907d3b93b6e0e5",
    "_cell_guid": "b1076dfc-b9ad-4769-8c92-a6c4dae69d19",
    "execution": {
     "iopub.status.busy": "2021-06-26T16:27:41.682875Z",
     "iopub.execute_input": "2021-06-26T16:27:41.683324Z",
     "iopub.status.idle": "2021-06-26T16:27:41.688389Z",
     "shell.execute_reply.started": "2021-06-26T16:27:41.683290Z",
     "shell.execute_reply": "2021-06-26T16:27:41.687184Z"
    },
    "trusted": true,
    "cell_id": "00000-aaa3111e-5aa9-4bbd-a46b-7a6031c13064",
    "deepnote_to_be_reexecuted": false,
    "source_hash": "71e8ed13",
    "execution_start": 1624727225673,
    "execution_millis": 2281,
    "deepnote_cell_type": "code"
   },
   "source": "import random\nimport json\nimport pickle\nimport numpy as np\nimport nltk\nfrom nltk.stem import WordNetLemmatizer",
   "outputs": [],
   "execution_count": null
  },
  {
   "cell_type": "code",
   "metadata": {
    "execution": {
     "iopub.status.busy": "2021-06-26T16:27:41.695065Z",
     "iopub.execute_input": "2021-06-26T16:27:41.695519Z",
     "iopub.status.idle": "2021-06-26T16:27:41.704887Z",
     "shell.execute_reply.started": "2021-06-26T16:27:41.695485Z",
     "shell.execute_reply": "2021-06-26T16:27:41.703940Z"
    },
    "trusted": true,
    "cell_id": "00001-674bd5cb-7051-4c8a-85f3-bc2cb95f160f",
    "deepnote_to_be_reexecuted": false,
    "source_hash": "70ad602f",
    "execution_start": 1624727227960,
    "execution_millis": 5478,
    "deepnote_cell_type": "code"
   },
   "source": "from tensorflow.keras.models import load_model",
   "outputs": [],
   "execution_count": null
  },
  {
   "cell_type": "code",
   "metadata": {
    "execution": {
     "iopub.status.busy": "2021-06-26T16:27:41.706287Z",
     "iopub.execute_input": "2021-06-26T16:27:41.706799Z",
     "iopub.status.idle": "2021-06-26T16:27:41.724564Z",
     "shell.execute_reply.started": "2021-06-26T16:27:41.706729Z",
     "shell.execute_reply": "2021-06-26T16:27:41.723646Z"
    },
    "trusted": true,
    "cell_id": "00002-24f44001-aae4-4250-b9b2-156079a36303",
    "deepnote_to_be_reexecuted": false,
    "source_hash": "249256f7",
    "execution_start": 1624727233445,
    "execution_millis": 4,
    "deepnote_cell_type": "code"
   },
   "source": "lemmatizer = WordNetLemmatizer()\nintents = json.loads(open('chatbot/q.json').read())",
   "outputs": [],
   "execution_count": null
  },
  {
   "cell_type": "code",
   "metadata": {
    "execution": {
     "iopub.status.busy": "2021-06-26T16:27:41.726327Z",
     "iopub.execute_input": "2021-06-26T16:27:41.726846Z",
     "iopub.status.idle": "2021-06-26T16:27:41.866396Z",
     "shell.execute_reply.started": "2021-06-26T16:27:41.726799Z",
     "shell.execute_reply": "2021-06-26T16:27:41.865370Z"
    },
    "trusted": true,
    "cell_id": "00003-5066d3bc-5abb-434f-b2ff-eef6fa1201ef",
    "deepnote_to_be_reexecuted": false,
    "source_hash": "61eb617f",
    "execution_start": 1624727233459,
    "execution_millis": 141,
    "deepnote_cell_type": "code"
   },
   "source": "words = pickle.load(open('chatbot/words.pkl','rb'))\nclasses = pickle.load(open('chatbot/classes.pkl','rb'))\nmodel = load_model('chatbot/chatbot_model.h5')",
   "outputs": [],
   "execution_count": null
  },
  {
   "cell_type": "code",
   "metadata": {
    "execution": {
     "iopub.status.busy": "2021-06-26T16:27:41.868119Z",
     "iopub.execute_input": "2021-06-26T16:27:41.868421Z",
     "iopub.status.idle": "2021-06-26T16:27:41.872848Z",
     "shell.execute_reply.started": "2021-06-26T16:27:41.868391Z",
     "shell.execute_reply": "2021-06-26T16:27:41.871855Z"
    },
    "trusted": true,
    "cell_id": "00004-69b841b3-81a6-44a2-b00d-6e80d22f5174",
    "deepnote_to_be_reexecuted": false,
    "source_hash": "d302a11b",
    "execution_start": 1624727233606,
    "execution_millis": 5,
    "deepnote_cell_type": "code"
   },
   "source": "def clean_up_sentence(sentence):\n    sentence_words = nltk.word_tokenize(sentence)\n    sentence_words = [lemmatizer.lemmatize(word) for word in sentence_words]\n    return sentence_words ",
   "outputs": [],
   "execution_count": null
  },
  {
   "cell_type": "code",
   "metadata": {
    "execution": {
     "iopub.status.busy": "2021-06-26T16:27:41.873899Z",
     "iopub.execute_input": "2021-06-26T16:27:41.874308Z",
     "iopub.status.idle": "2021-06-26T16:27:41.886357Z",
     "shell.execute_reply.started": "2021-06-26T16:27:41.874279Z",
     "shell.execute_reply": "2021-06-26T16:27:41.884981Z"
    },
    "trusted": true,
    "cell_id": "00005-156ceb37-2555-463c-a37b-4bd7244f8c49",
    "deepnote_to_be_reexecuted": false,
    "source_hash": "42a284fd",
    "execution_start": 1624727233619,
    "execution_millis": 3,
    "deepnote_cell_type": "code"
   },
   "source": "def bag_of_words(sentence):\n    sentence_words = clean_up_sentence(sentence)\n    bag = [0] * len(words)\n    for w in sentence_words :\n        for i, word in enumerate(words):\n            if word == w :\n                bag[i] = 1\n    return np.array(bag)",
   "outputs": [],
   "execution_count": null
  },
  {
   "cell_type": "code",
   "metadata": {
    "execution": {
     "iopub.status.busy": "2021-06-26T16:27:41.887732Z",
     "iopub.execute_input": "2021-06-26T16:27:41.888066Z",
     "iopub.status.idle": "2021-06-26T16:27:41.901526Z",
     "shell.execute_reply.started": "2021-06-26T16:27:41.888037Z",
     "shell.execute_reply": "2021-06-26T16:27:41.900237Z"
    },
    "trusted": true,
    "cell_id": "00006-563cda5e-066f-45d4-a40c-7c1fcccda246",
    "deepnote_to_be_reexecuted": false,
    "source_hash": "f4c841e4",
    "execution_start": 1624727233674,
    "execution_millis": 0,
    "deepnote_cell_type": "code"
   },
   "source": "def predict_class(sentence):\n    bow = bag_of_words(sentence)\n    \n    res = model.predict(np.array([bow]))[0]\n    ERROR_THRESHOLD = 0\n    results = [[i,r] for i,r in enumerate(res) if r > ERROR_THRESHOLD]\n\n    results.sort(key = lambda x: x[1], reverse = True)\n    return_list = []\n    for i in results :\n        return_list.append({'intent' : classes[i[0]], 'probability' : str(i[1])})\n    return return_list\n",
   "outputs": [],
   "execution_count": null
  },
  {
   "cell_type": "code",
   "metadata": {
    "execution": {
     "iopub.status.busy": "2021-06-26T16:27:41.902961Z",
     "iopub.execute_input": "2021-06-26T16:27:41.903267Z",
     "iopub.status.idle": "2021-06-26T16:27:41.915861Z",
     "shell.execute_reply.started": "2021-06-26T16:27:41.903238Z",
     "shell.execute_reply": "2021-06-26T16:27:41.914695Z"
    },
    "trusted": true,
    "cell_id": "00007-074a0b8d-9dd2-4b6a-a674-bd71ee2879a0",
    "deepnote_to_be_reexecuted": false,
    "source_hash": "437bbb1a",
    "execution_start": 1624727233674,
    "execution_millis": 10,
    "deepnote_cell_type": "code"
   },
   "source": "def get_response(intents_list, intents_json):\n    tag = intents_list[0]['intent']\n    list_of_intents = intents_json['intents']\n    for i in list_of_intents :\n        if i['tag'] == tag :\n            result = random.choice(i['responses'])\n            break\n\n    return result    \n\nprint()",
   "outputs": [
    {
     "name": "stdout",
     "text": "\n",
     "output_type": "stream"
    }
   ],
   "execution_count": null
  },
  {
   "cell_type": "code",
   "metadata": {
    "execution": {
     "iopub.status.busy": "2021-06-26T16:27:41.930984Z",
     "iopub.execute_input": "2021-06-26T16:27:41.931275Z",
     "iopub.status.idle": "2021-06-26T16:27:45.324732Z",
     "shell.execute_reply.started": "2021-06-26T16:27:41.931246Z",
     "shell.execute_reply": "2021-06-26T16:27:45.322906Z"
    },
    "trusted": true,
    "cell_id": "00009-b223ccf4-afda-4668-85fa-1730d3eed858",
    "deepnote_to_be_reexecuted": false,
    "source_hash": "b04c87c8",
    "execution_start": 1624727830710,
    "execution_millis": 955801,
    "deepnote_cell_type": "code"
   },
   "source": "'''\n\nprint(\"Bot Running...\")\n\nwhile True :\n    message = input(\"User : \")\n    print(\"User : \",message )\n    ints = predict_class(message)\n    res = get_response(ints, intents)\n    print(\"Bot : \" , res)\n    \n'''\n",
   "outputs": [
    {
     "name": "stdout",
     "text": " Bot Running...\nUser :  hi bruh\nBot :  Hello, thanks for visiting\nUser :  what si your naem?\nBot :  I can talk and do things for you\nUser :  what is your name, i repeat\nBot :  Good to see you again\nUser :  who are you\nBot :  I can do whatever you asks me to do\n",
     "output_type": "stream"
    },
    {
     "output_type": "error",
     "ename": "KeyboardInterrupt",
     "evalue": "Interrupted by user",
     "traceback": [
      "\u001b[0;31m---------------------------------------------------------------------------\u001b[0m",
      "\u001b[0;31mKeyboardInterrupt\u001b[0m                         Traceback (most recent call last)",
      "\u001b[0;32m<ipython-input-12-af2a05b114ab>\u001b[0m in \u001b[0;36m<module>\u001b[0;34m\u001b[0m\n\u001b[1;32m      2\u001b[0m \u001b[0;34m\u001b[0m\u001b[0m\n\u001b[1;32m      3\u001b[0m \u001b[0;32mwhile\u001b[0m \u001b[0;32mTrue\u001b[0m \u001b[0;34m:\u001b[0m\u001b[0;34m\u001b[0m\u001b[0;34m\u001b[0m\u001b[0m\n\u001b[0;32m----> 4\u001b[0;31m     \u001b[0mmessage\u001b[0m \u001b[0;34m=\u001b[0m \u001b[0minput\u001b[0m\u001b[0;34m(\u001b[0m\u001b[0;34m\"User : \"\u001b[0m\u001b[0;34m)\u001b[0m\u001b[0;34m\u001b[0m\u001b[0;34m\u001b[0m\u001b[0m\n\u001b[0m\u001b[1;32m      5\u001b[0m     \u001b[0mprint\u001b[0m\u001b[0;34m(\u001b[0m\u001b[0;34m\"User : \"\u001b[0m\u001b[0;34m,\u001b[0m\u001b[0mmessage\u001b[0m \u001b[0;34m)\u001b[0m\u001b[0;34m\u001b[0m\u001b[0;34m\u001b[0m\u001b[0m\n\u001b[1;32m      6\u001b[0m     \u001b[0mints\u001b[0m \u001b[0;34m=\u001b[0m \u001b[0mpredict_class\u001b[0m\u001b[0;34m(\u001b[0m\u001b[0mmessage\u001b[0m\u001b[0;34m)\u001b[0m\u001b[0;34m\u001b[0m\u001b[0;34m\u001b[0m\u001b[0m\n",
      "\u001b[0;32m/shared-libs/python3.7/py-core/lib/python3.7/site-packages/ipykernel/kernelbase.py\u001b[0m in \u001b[0;36mraw_input\u001b[0;34m(self, prompt)\u001b[0m\n\u001b[1;32m    849\u001b[0m             \u001b[0mself\u001b[0m\u001b[0;34m.\u001b[0m\u001b[0m_parent_ident\u001b[0m\u001b[0;34m,\u001b[0m\u001b[0;34m\u001b[0m\u001b[0;34m\u001b[0m\u001b[0m\n\u001b[1;32m    850\u001b[0m             \u001b[0mself\u001b[0m\u001b[0;34m.\u001b[0m\u001b[0m_parent_header\u001b[0m\u001b[0;34m,\u001b[0m\u001b[0;34m\u001b[0m\u001b[0;34m\u001b[0m\u001b[0m\n\u001b[0;32m--> 851\u001b[0;31m             \u001b[0mpassword\u001b[0m\u001b[0;34m=\u001b[0m\u001b[0;32mFalse\u001b[0m\u001b[0;34m,\u001b[0m\u001b[0;34m\u001b[0m\u001b[0;34m\u001b[0m\u001b[0m\n\u001b[0m\u001b[1;32m    852\u001b[0m         )\n\u001b[1;32m    853\u001b[0m \u001b[0;34m\u001b[0m\u001b[0m\n",
      "\u001b[0;32m/shared-libs/python3.7/py-core/lib/python3.7/site-packages/ipykernel/kernelbase.py\u001b[0m in \u001b[0;36m_input_request\u001b[0;34m(self, prompt, ident, parent, password)\u001b[0m\n\u001b[1;32m    890\u001b[0m             \u001b[0;32mexcept\u001b[0m \u001b[0mKeyboardInterrupt\u001b[0m\u001b[0;34m:\u001b[0m\u001b[0;34m\u001b[0m\u001b[0;34m\u001b[0m\u001b[0m\n\u001b[1;32m    891\u001b[0m                 \u001b[0;31m# re-raise KeyboardInterrupt, to truncate traceback\u001b[0m\u001b[0;34m\u001b[0m\u001b[0;34m\u001b[0m\u001b[0;34m\u001b[0m\u001b[0m\n\u001b[0;32m--> 892\u001b[0;31m                 \u001b[0;32mraise\u001b[0m \u001b[0mKeyboardInterrupt\u001b[0m\u001b[0;34m(\u001b[0m\u001b[0;34m\"Interrupted by user\"\u001b[0m\u001b[0;34m)\u001b[0m \u001b[0;32mfrom\u001b[0m \u001b[0;32mNone\u001b[0m\u001b[0;34m\u001b[0m\u001b[0;34m\u001b[0m\u001b[0m\n\u001b[0m\u001b[1;32m    893\u001b[0m             \u001b[0;32mexcept\u001b[0m \u001b[0mException\u001b[0m \u001b[0;32mas\u001b[0m \u001b[0me\u001b[0m\u001b[0;34m:\u001b[0m\u001b[0;34m\u001b[0m\u001b[0;34m\u001b[0m\u001b[0m\n\u001b[1;32m    894\u001b[0m                 \u001b[0mself\u001b[0m\u001b[0;34m.\u001b[0m\u001b[0mlog\u001b[0m\u001b[0;34m.\u001b[0m\u001b[0mwarning\u001b[0m\u001b[0;34m(\u001b[0m\u001b[0;34m\"Invalid Message:\"\u001b[0m\u001b[0;34m,\u001b[0m \u001b[0mexc_info\u001b[0m\u001b[0;34m=\u001b[0m\u001b[0;32mTrue\u001b[0m\u001b[0;34m)\u001b[0m\u001b[0;34m\u001b[0m\u001b[0;34m\u001b[0m\u001b[0m\n",
      "\u001b[0;31mKeyboardInterrupt\u001b[0m: Interrupted by user"
     ]
    }
   ],
   "execution_count": null
  },
  {
   "cell_type": "markdown",
   "source": "<a style='text-decoration:none;line-height:16px;display:flex;color:#5B5B62;padding:10px;justify-content:end;' href='https://deepnote.com?utm_source=created-in-deepnote-cell&projectId=e9d3249a-1a9f-4785-bc7e-9323579d4b64' target=\"_blank\">\n<img alt='Created in deepnote.com' style='display:inline;max-height:16px;margin:0px;margin-right:7.5px;' src='data:image/svg+xml;base64,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' > </img>\nCreated in <span style='font-weight:600;margin-left:4px;'>Deepnote</span></a>",
   "metadata": {
    "tags": [],
    "created_in_deepnote_cell": true,
    "deepnote_cell_type": "markdown"
   }
  }
 ],
 "nbformat": 4,
 "nbformat_minor": 4,
 "metadata": {
  "kernelspec": {
   "language": "python",
   "display_name": "Python 3",
   "name": "python3"
  },
  "language_info": {
   "name": "python",
   "version": "3.7.10",
   "mimetype": "text/x-python",
   "codemirror_mode": {
    "name": "ipython",
    "version": 3
   },
   "pygments_lexer": "ipython3",
   "nbconvert_exporter": "python",
   "file_extension": ".py"
  },
  "deepnote_notebook_id": "be1e45fa-e1fc-4019-83c2-b5f1f35bf414",
  "deepnote": {},
  "deepnote_execution_queue": []
 }
}